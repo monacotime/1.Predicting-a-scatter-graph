{
 "cells": [
  {
   "cell_type": "markdown",
   "metadata": {
    "colab_type": "text",
    "id": "sc8Iy5wB7D3X"
   },
   "source": [
    "# Creating the database using python"
   ]
  },
  {
   "cell_type": "code",
   "execution_count": 2,
   "metadata": {
    "colab": {
     "base_uri": "https://localhost:8080/",
     "height": 51
    },
    "colab_type": "code",
    "executionInfo": {
     "elapsed": 1360,
     "status": "ok",
     "timestamp": 1589079269395,
     "user": {
      "displayName": "Rudramani Singha",
      "photoUrl": "https://lh3.googleusercontent.com/a-/AOh14Gilg6Ggb7YhkwMnpvDq5qsIzG-98oiXQ4zmMYk8=s64",
      "userId": "13521648690042867541"
     },
     "user_tz": -330
    },
    "id": "q3zKTiLi9Brt",
    "outputId": "83d798bb-18d7-4ce6-cd4c-0cd33519ebc5"
   },
   "outputs": [
    {
     "name": "stdout",
     "output_type": "stream",
     "text": [
      "[97, 14, 74, 66, 98]\n",
      "[115.0, 32.0, 89.0, 78.0, 122.0]\n"
     ]
    }
   ],
   "source": [
    "import random\n",
    "y=[]\n",
    "x=[]\n",
    "\n",
    "for i in range(1500):\n",
    "  x_domain = random.randrange(100)\n",
    "  y_domain = (random.randrange(1,10)/10)*30 + (x_domain)\n",
    "  x.append(x_domain)\n",
    "  y.append(y_domain)\n",
    "\n",
    "print(x[:5])\n",
    "print(y[:5])"
   ]
  },
  {
   "cell_type": "markdown",
   "metadata": {
    "colab_type": "text",
    "id": "UBbht4mREUaF"
   },
   "source": [
    "#Plotting the data"
   ]
  },
  {
   "cell_type": "code",
   "execution_count": 4,
   "metadata": {
    "colab": {
     "base_uri": "https://localhost:8080/",
     "height": 265
    },
    "colab_type": "code",
    "executionInfo": {
     "elapsed": 1647,
     "status": "ok",
     "timestamp": 1589079292030,
     "user": {
      "displayName": "Rudramani Singha",
      "photoUrl": "https://lh3.googleusercontent.com/a-/AOh14Gilg6Ggb7YhkwMnpvDq5qsIzG-98oiXQ4zmMYk8=s64",
      "userId": "13521648690042867541"
     },
     "user_tz": -330
    },
    "id": "joow-vLOA86b",
    "outputId": "b8d0db1f-efed-436a-d8f2-c30e0d6ace1b"
   },
   "outputs": [
    {
     "data": {
      "image/png": "[encoded data removed]",
      "text/plain": [
       "<Figure size 432x288 with 1 Axes>"
      ]
     },
     "metadata": {
      "needs_background": "light",
      "tags": []
     },
     "output_type": "display_data"
    }
   ],
   "source": [
    "import matplotlib.pyplot as plt\n",
    "\n",
    "plt.scatter(x,y,s=2)\n",
    "plt.show()"
   ]
  },
  {
   "cell_type": "markdown",
   "metadata": {
    "colab_type": "text",
    "id": "0ofAfKWdYvZk"
   },
   "source": [
    "#Saving the data using Pickle"
   ]
  },
  {
   "cell_type": "code",
   "execution_count": 0,
   "metadata": {
    "colab": {},
    "colab_type": "code",
    "id": "QmvxksPaA9ao"
   },
   "outputs": [],
   "source": [
    "import pickle\n",
    "\n",
    "pickle_out = open(\"saved_x_values.pickle\",\"wb\")\n",
    "pickle.dump(x, pickle_out)\n",
    "pickle_out.close()\n",
    "\n",
    "pickle_out = open(\"saved_y_values.pickle\",\"wb\")\n",
    "pickle.dump(y, pickle_out)\n",
    "pickle_out.close()"
   ]
  },
  {
   "cell_type": "markdown",
   "metadata": {
    "colab_type": "text",
    "id": "WbZ8-PArc_7c"
   },
   "source": [
    "#Importing back the data back using pickle"
   ]
  },
  {
   "cell_type": "code",
   "execution_count": 7,
   "metadata": {
    "colab": {
     "base_uri": "https://localhost:8080/",
     "height": 51
    },
    "colab_type": "code",
    "executionInfo": {
     "elapsed": 1303,
     "status": "ok",
     "timestamp": 1589079493817,
     "user": {
      "displayName": "Rudramani Singha",
      "photoUrl": "https://lh3.googleusercontent.com/a-/AOh14Gilg6Ggb7YhkwMnpvDq5qsIzG-98oiXQ4zmMYk8=s64",
      "userId": "13521648690042867541"
     },
     "user_tz": -330
    },
    "id": "st65nxoqA9d_",
    "outputId": "c54651cb-0ac7-4655-ea53-057119e66e93"
   },
   "outputs": [
    {
     "name": "stdout",
     "output_type": "stream",
     "text": [
      "[97, 14, 74, 66, 98]\n",
      "[115.0, 32.0, 89.0, 78.0, 122.0]\n"
     ]
    }
   ],
   "source": [
    "import pickle\n",
    "\n",
    "\n",
    "pickle_in = open(\"drive/My Drive/Colab Notebooks/1. Predicting a scatter graph/Study files/saved_x_values.pickle\",\"rb\")\n",
    "a = pickle.load(pickle_in)\n",
    "\n",
    "pickle_in = open(\"drive/My Drive/Colab Notebooks/1. Predicting a scatter graph/Study files/saved_y_values.pickle\",\"rb\")\n",
    "b = pickle.load(pickle_in)\n",
    "\n",
    "print(a[:5])\n",
    "print(b[:5])\n"
   ]
  },
  {
   "cell_type": "markdown",
   "metadata": {
    "colab_type": "text",
    "id": "HN432I4PhItG"
   },
   "source": [
    "#Modeling the Linear Regression model\n",
    "currently data is imported into a and b \\\n",
    "our job is to train on a and use it to predict -> b"
   ]
  },
  {
   "cell_type": "code",
   "execution_count": 9,
   "metadata": {
    "colab": {
     "base_uri": "https://localhost:8080/",
     "height": 34
    },
    "colab_type": "code",
    "executionInfo": {
     "elapsed": 2966,
     "status": "ok",
     "timestamp": 1589080815692,
     "user": {
      "displayName": "Rudramani Singha",
      "photoUrl": "https://lh3.googleusercontent.com/a-/AOh14Gilg6Ggb7YhkwMnpvDq5qsIzG-98oiXQ4zmMYk8=s64",
      "userId": "13521648690042867541"
     },
     "user_tz": -330
    },
    "id": "FKcsJeGEfDPI",
    "outputId": "4015d8ed-614c-48fd-9f8f-1a7b27a9deb3"
   },
   "outputs": [
    {
     "name": "stderr",
     "output_type": "stream",
     "text": [
      "Using TensorFlow backend.\n"
     ]
    }
   ],
   "source": [
    "import matplotlib.pyplot as plt\n",
    "import keras"
   ]
  },
  {
   "cell_type": "code",
   "execution_count": 10,
   "metadata": {
    "colab": {
     "base_uri": "https://localhost:8080/",
     "height": 1000
    },
    "colab_type": "code",
    "executionInfo": {
     "elapsed": 6515,
     "status": "ok",
     "timestamp": 1589080824187,
     "user": {
      "displayName": "Rudramani Singha",
      "photoUrl": "https://lh3.googleusercontent.com/a-/AOh14Gilg6Ggb7YhkwMnpvDq5qsIzG-98oiXQ4zmMYk8=s64",
      "userId": "13521648690042867541"
     },
     "user_tz": -330
    },
    "id": "JL_QLm2AfDHd",
    "outputId": "f00bc734-6c85-4c98-a479-a97fee9e0746"
   },
   "outputs": [
    {
     "name": "stdout",
     "output_type": "stream",
     "text": [
      "Epoch 1/30\n",
      "1500/1500 [==============================] - 0s 256us/step - loss: 144.8333\n",
      "Epoch 2/30\n",
      "1500/1500 [==============================] - 0s 88us/step - loss: 105.2365\n",
      "Epoch 3/30\n",
      "1500/1500 [==============================] - 0s 97us/step - loss: 121.8771\n",
      "Epoch 4/30\n",
      "1500/1500 [==============================] - 0s 91us/step - loss: 109.0939\n",
      "Epoch 5/30\n",
      "1500/1500 [==============================] - 0s 92us/step - loss: 106.6567\n",
      "Epoch 6/30\n",
      "1500/1500 [==============================] - 0s 89us/step - loss: 104.8069\n",
      "Epoch 7/30\n",
      "1500/1500 [==============================] - 0s 90us/step - loss: 110.5028\n",
      "Epoch 8/30\n",
      "1500/1500 [==============================] - 0s 89us/step - loss: 162.3004\n",
      "Epoch 9/30\n",
      "1500/1500 [==============================] - 0s 88us/step - loss: 81.6231\n",
      "Epoch 10/30\n",
      "1500/1500 [==============================] - 0s 90us/step - loss: 102.5167\n",
      "Epoch 11/30\n",
      "1500/1500 [==============================] - 0s 88us/step - loss: 155.4922\n",
      "Epoch 12/30\n",
      "1500/1500 [==============================] - 0s 91us/step - loss: 87.2392\n",
      "Epoch 13/30\n",
      "1500/1500 [==============================] - 0s 87us/step - loss: 89.4068\n",
      "Epoch 14/30\n",
      "1500/1500 [==============================] - 0s 87us/step - loss: 86.0752\n",
      "Epoch 15/30\n",
      "1500/1500 [==============================] - 0s 92us/step - loss: 132.3835\n",
      "Epoch 16/30\n",
      "1500/1500 [==============================] - 0s 86us/step - loss: 109.1049\n",
      "Epoch 17/30\n",
      "1500/1500 [==============================] - 0s 90us/step - loss: 100.8442\n",
      "Epoch 18/30\n",
      "1500/1500 [==============================] - 0s 92us/step - loss: 91.4583\n",
      "Epoch 19/30\n",
      "1500/1500 [==============================] - 0s 93us/step - loss: 112.8296\n",
      "Epoch 20/30\n",
      "1500/1500 [==============================] - 0s 88us/step - loss: 169.6735\n",
      "Epoch 21/30\n",
      "1500/1500 [==============================] - 0s 90us/step - loss: 93.6152\n",
      "Epoch 22/30\n",
      "1500/1500 [==============================] - 0s 92us/step - loss: 129.3189\n",
      "Epoch 23/30\n",
      "1500/1500 [==============================] - 0s 92us/step - loss: 87.0836\n",
      "Epoch 24/30\n",
      "1500/1500 [==============================] - 0s 90us/step - loss: 80.6354\n",
      "Epoch 25/30\n",
      "1500/1500 [==============================] - 0s 90us/step - loss: 123.0585\n",
      "Epoch 26/30\n",
      "1500/1500 [==============================] - 0s 86us/step - loss: 90.0362\n",
      "Epoch 27/30\n",
      "1500/1500 [==============================] - 0s 88us/step - loss: 105.3681\n",
      "Epoch 28/30\n",
      "1500/1500 [==============================] - 0s 87us/step - loss: 98.7468\n",
      "Epoch 29/30\n",
      "1500/1500 [==============================] - 0s 88us/step - loss: 103.7555\n",
      "Epoch 30/30\n",
      "1500/1500 [==============================] - 0s 86us/step - loss: 141.5112\n"
     ]
    },
    {
     "data": {
      "text/plain": [
       "<keras.callbacks.callbacks.History at 0x7eff910019e8>"
      ]
     },
     "execution_count": 10,
     "metadata": {
      "tags": []
     },
     "output_type": "execute_result"
    }
   ],
   "source": [
    "model = keras.Sequential()\n",
    "model.add(keras.layers.Dense(1, input_shape=(1,)))\n",
    "model.compile(keras.optimizers.Adam(lr=1), 'mean_squared_error')\n",
    "\n",
    "model.fit(a, b, epochs=30, batch_size=10)"
   ]
  },
  {
   "cell_type": "markdown",
   "metadata": {
    "colab_type": "text",
    "id": "1BgO1h5PohwC"
   },
   "source": [
    "#Checking if it fits the data properly\n",
    "blue = input data\\\n",
    "red = the line of best fit that the model thinks is the best at predicting outcome"
   ]
  },
  {
   "cell_type": "code",
   "execution_count": 12,
   "metadata": {
    "colab": {
     "base_uri": "https://localhost:8080/",
     "height": 282
    },
    "colab_type": "code",
    "executionInfo": {
     "elapsed": 1454,
     "status": "ok",
     "timestamp": 1589081355033,
     "user": {
      "displayName": "Rudramani Singha",
      "photoUrl": "https://lh3.googleusercontent.com/a-/AOh14Gilg6Ggb7YhkwMnpvDq5qsIzG-98oiXQ4zmMYk8=s64",
      "userId": "13521648690042867541"
     },
     "user_tz": -330
    },
    "id": "f85I2PnBfC7F",
    "outputId": "19b1e0a1-0999-4456-977f-51c7ae2eceec"
   },
   "outputs": [
    {
     "data": {
      "text/plain": [
       "[<matplotlib.lines.Line2D at 0x7eff89a636a0>]"
      ]
     },
     "execution_count": 12,
     "metadata": {
      "tags": []
     },
     "output_type": "execute_result"
    },
    {
     "data": {
      "image/png": "[encoded data removed]",
      "text/plain": [
       "<Figure size 432x288 with 1 Axes>"
      ]
     },
     "metadata": {
      "needs_background": "light",
      "tags": []
     },
     "output_type": "display_data"
    }
   ],
   "source": [
    "plt.scatter(a, b, s=1)\n",
    "b_pread = model.predict(a)\n",
    "plt.plot(a, b_pread, color='red')"
   ]
  },
  {
   "cell_type": "markdown",
   "metadata": {
    "colab_type": "text",
    "id": "PtMmk96Nps23"
   },
   "source": [
    "So as seen above, the model thinks that the red line is the best way way to predict the data. \\\n",
    "\n",
    "notice that the gradient of the data that I had manually put does not co-relate with the gradient of the best fit line drawn by the model. My guess is that since I added randomness to the training data, the data may get squeed with the data density clumping in certain space so the model will try to fit into that and introduce a slight curve."
   ]
  },
  {
   "cell_type": "markdown",
   "metadata": {
    "colab_type": "text",
    "id": "BPBeoz5MqtuZ"
   },
   "source": [
    "#Using the model to predict a data that it has never seen before"
   ]
  },
  {
   "cell_type": "code",
   "execution_count": 15,
   "metadata": {
    "colab": {
     "base_uri": "https://localhost:8080/",
     "height": 34
    },
    "colab_type": "code",
    "executionInfo": {
     "elapsed": 1302,
     "status": "ok",
     "timestamp": 1589082169931,
     "user": {
      "displayName": "Rudramani Singha",
      "photoUrl": "https://lh3.googleusercontent.com/a-/AOh14Gilg6Ggb7YhkwMnpvDq5qsIzG-98oiXQ4zmMYk8=s64",
      "userId": "13521648690042867541"
     },
     "user_tz": -330
    },
    "id": "D-px8U2nqujN",
    "outputId": "8f570e92-e5f8-45b0-a904-8817e943c1c5"
   },
   "outputs": [
    {
     "name": "stdout",
     "output_type": "stream",
     "text": [
      "[[63.92444]]\n"
     ]
    }
   ],
   "source": [
    "print(model.predict([50]))"
   ]
  },
  {
   "cell_type": "markdown",
   "metadata": {
    "colab_type": "text",
    "id": "ffli006rrcpw"
   },
   "source": [
    "####Okay, as seen above, if I ask what should i expect if the value is 50, then the model predicts that it should be ~64\n",
    "\n",
    "but if we check my original function that was used to describe the input data.... \n",
    "\n",
    "###y_domain = (random.randrange(1,10)/10)*30 + (x_domain)\n",
    "\n",
    "This can be used to re-create what the value of b (what it should have actually been like). But since i have added randomness to it there is no way for me to know... \\\n",
    "but I can manually calculate that the divergence of b to a -> ~28% \n",
    "Is this any helpful? I D K?"
   ]
  },
  {
   "cell_type": "markdown",
   "metadata": {
    "colab_type": "text",
    "id": "lx6tGoMpt4Vz"
   },
   "source": [
    "#Reuslt: Mission Success!\n",
    "\n",
    "![](https://media.tenor.com/images/8d36343d5ba810a6e7fb24b32597bd83/tenor.gif)"
   ]
  }
 ],
 "metadata": {
  "colab": {
   "authorship_tag": "ABX9TyOEZtuI3r43jzGFm5JKn1Hf",
   "collapsed_sections": [],
   "mount_file_id": "1mew45BkSlRLLfywKmSYW7SrYzRBRCfBa",
   "name": "Scatter graph prediction.ipynb",
   "provenance": [],
   "toc_visible": true
  },
  "kernelspec": {
   "display_name": "Python 3",
   "language": "python",
   "name": "python3"
  },
  "language_info": {
   "codemirror_mode": {
    "name": "ipython",
    "version": 3
   },
   "file_extension": ".py",
   "mimetype": "text/x-python",
   "name": "python",
   "nbconvert_exporter": "python",
   "pygments_lexer": "ipython3",
   "version": "3.7.3"
  }
 },
 "nbformat": 4,
 "nbformat_minor": 1
}
